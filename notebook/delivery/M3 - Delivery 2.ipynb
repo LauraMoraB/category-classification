{
 "cells": [
  {
   "cell_type": "markdown",
   "metadata": {},
   "source": [
    "# M3 - Delivery 2\n",
    "\n",
    "## Created By: Laura M., Andreu J.R., Aitor S."
   ]
  },
  {
   "cell_type": "markdown",
   "metadata": {},
   "source": [
    "The main objective in this second delivery of the M3-Machine Learning for Computer Vision Module is to solve an image classification problem by using the Bag of Words model, Cross-Validation and Spatial Pyramids. For image classification, Support Vector Machine(SVM) classifier has been implemented offering different kernel configurations: Linear, RBF, Polynomial and Histogram Intersection. \n",
    "\n",
    "The program starts by computing the Scale Invariant Feature Transform (SIFT). The obtained descriptors are clustered using the k-means clustering algorithm and represented by a visual keyword (label). Then, the Spatial Pyramids algorithm is applied and the descriptors histogram(visual words) is computed. Finally, the SVM classifier is fitted with the histogram to train a model using a cross-validation technique. To test the model performance, the accuracy is computed using a completly new test dataset."
   ]
  },
  {
   "cell_type": "markdown",
   "metadata": {},
   "source": [
    "Hereunder, the Python scripts used for the second delivery are enclosed.\n",
    "\n",
    "It is important to remark that the working directory -path- in which the MIT_split dataset images are stored -as train and test-, should be used in order to execute the following code."
   ]
  },
  {
   "cell_type": "markdown",
   "metadata": {},
   "source": [
    "### Pyramid_words.py\n",
    "\n",
    "This script contains the method used to compute the visual words, taking into account the pyramid levels and descriptors of the image."
   ]
  },
  {
   "cell_type": "code",
   "execution_count": 1,
   "metadata": {},
   "outputs": [],
   "source": [
    "import numpy as np\n",
    "from sklearn.preprocessing import normalize\n",
    "\n",
    "\n",
    "def pyramid_visual_word(pyramid_descriptors, codebook, k_codebook, descriptors):\n",
    "    visual_words = []\n",
    "    \n",
    "    for pyramid_level in pyramid_descriptors:\n",
    "        \n",
    "        for im_pyramid, j in zip(pyramid_level, np.arange(len(pyramid_level))):\n",
    "            words_hist = np.array([])\n",
    "            \n",
    "            for sub_im in im_pyramid:\n",
    "\n",
    "                sub_words = codebook.predict(sub_im)\n",
    "                sub_words_hist = np.bincount(sub_words, minlength=k_codebook)\n",
    "                sub_words_hist = normalize(sub_words_hist.reshape(-1,1), norm= 'l2', axis=0).reshape(1,-1)\n",
    "                words_hist = np.append(words_hist, sub_words_hist) \n",
    "                \n",
    "            if (len(visual_words) < len(descriptors)):\n",
    "                visual_words.append(words_hist)\n",
    "               \n",
    "            else:\n",
    "                visual_words[j] = np.append(visual_words[j], words_hist)\n",
    "    \n",
    "    return np.array(visual_words, dtype='f')             \n",
    "            "
   ]
  },
  {
   "cell_type": "markdown",
   "metadata": {},
   "source": [
    "### Classifier.py\n",
    "\n",
    "This script offers the methods needed to initialize different classifiers such as KNN or SVM. Also, the method for computing the Histogram Intersection Kernel can be found. "
   ]
  },
  {
   "cell_type": "code",
   "execution_count": 2,
   "metadata": {},
   "outputs": [],
   "source": [
    "from sklearn import svm\n",
    "from sklearn.neighbors import KNeighborsClassifier\n",
    "import numpy as np\n",
    "from sklearn.preprocessing import StandardScaler\n",
    "\n",
    "\n",
    "def init_classifier_knn(knn_param):\n",
    "\n",
    "    return KNeighborsClassifier(\n",
    "            n_neighbors=knn_param[\"k_classifier\"], \n",
    "            n_jobs=-1, \n",
    "            metric=knn_param[\"distance_method\"])\n",
    "\n",
    "def init_classifier_svm(svm_param):\n",
    "    \n",
    "    models = (\n",
    "            (svm.SVC(kernel=svm_param[\"kernel\"][0],\n",
    "                     C=svm_param[\"C_linear\"]),\n",
    "             \"linear1\"),\n",
    "            (svm.LinearSVC(C=svm_param[\"C_linear2\"]), \n",
    "             \"linear2\"),\n",
    "            (svm.SVC(kernel=svm_param[\"kernel\"][1],\n",
    "                     gamma=svm_param[\"gamma\"], \n",
    "                     C=svm_param[\"C_rbf\"]), \n",
    "             \"rbf\"),\n",
    "            (svm.SVC(kernel=svm_param[\"kernel\"][2], \n",
    "                     degree=svm_param[\"degree\"],\n",
    "                     gamma=svm_param[\"gamma_poly\"], \n",
    "                     C=svm_param[\"C_poly\"]), \n",
    "             \"poly\"),\n",
    "            (svm.SVC(kernel=svm_param[\"kernel\"][3],\n",
    "                     C=svm_param[\"C_inter\"]), \n",
    "             \"inter\")\n",
    "            )\n",
    "        \n",
    "    return models\n",
    "\n",
    "\n",
    "def histogram_intersection(set1, set2):\n",
    "\n",
    "    set1 = abs(set1)\n",
    "    set2 = abs(set2)\n",
    "\n",
    "    inter = np.zeros((set1.shape[0], set2.shape[0]))\n",
    "\n",
    "    for col in range(set1.shape[1]):\n",
    "        col_1 = set1[:, col].reshape(-1, 1)\n",
    "        col_2 = set2[:, col].reshape(-1, 1)\n",
    "\n",
    "        inter += np.minimum(col_1, col_2.T)\n",
    "     \n",
    "    return inter\n",
    "    \n",
    "    \n",
    "def compute_intersection_kernel(data_test, data_train):\n",
    "\n",
    "    scld = StandardScaler().fit(data_train)\n",
    "    scaled_train = scld.transform(data_train)\n",
    "    scaled_test = scld.transform(data_test)\n",
    "\n",
    "    return histogram_intersection(scaled_test, scaled_train)\n",
    "\n",
    "\n",
    "def compute_regular_kernel(data_test, data_train):\n",
    "    return data_test"
   ]
  },
  {
   "cell_type": "markdown",
   "metadata": {},
   "source": [
    "### Visualization.py\n",
    "\n",
    "This script offers two methods to plot the results: (1) accuracy vs time plot and (2) confusion matrix plot. "
   ]
  },
  {
   "cell_type": "code",
   "execution_count": 3,
   "metadata": {},
   "outputs": [],
   "source": [
    "from matplotlib import pyplot as plt\n",
    "import itertools\n",
    "import numpy as np\n",
    "\n",
    "def plot_accuracy_vs_time(x, y1, y2, feature_name, title):\n",
    "    \"\"\"\n",
    "    This function plots a doble axis figure.\n",
    "    Feature name and title can be modified to be plot\n",
    "    \"\"\"  \n",
    "    fig, ax1 =plt.subplots()\n",
    "    color = 'tab:red'\n",
    "    ax1.set_xlabel(feature_name)\n",
    "    ax1.set_ylabel('accuracy', color=color)\n",
    "    ax1.plot(x, y1, color=color)\n",
    "    ax1.tick_params(axis='y', labelcolor=color)\n",
    "    \n",
    "    ax2 = ax1.twinx()  # instantiate a second axes that shares the same x-axis\n",
    "    color = 'tab:blue'\n",
    "    ax2.set_ylabel('time (s)', color=color)  \n",
    "    ax2.plot(x,y2, color=color)\n",
    "    ax2.tick_params(axis='y', labelcolor=color)\n",
    "    \n",
    "    fig.tight_layout()  # otherwise the right y-label is slightly clipped\n",
    "    plt.title(title)\n",
    "    plt.show()     \n",
    "\n",
    "def plot_confusion_matrix(cm, classes, normalize=False, \n",
    "                          title='Confusion matrix', cmap=plt.cm.Blues):\n",
    "    \"\"\"\n",
    "    This function prints and plots the confusion matrix.\n",
    "    Normalization can be applied by setting `normalize=True`.\n",
    "    \"\"\"\n",
    "    if normalize:\n",
    "        cm = cm.astype('float') / cm.sum(axis=1)[:, np.newaxis]\n",
    "\n",
    "    plt.figure()\n",
    "    plt.imshow(cm, interpolation='nearest', cmap=cmap)\n",
    "    plt.title(title)\n",
    "    plt.colorbar()\n",
    "    tick_marks = np.arange(len(classes))\n",
    "    plt.xticks(tick_marks, classes, rotation=45)\n",
    "    plt.yticks(tick_marks, classes)\n",
    "\n",
    "    fmt = '.2f' if normalize else 'd'\n",
    "    thresh = cm.max() / 2.\n",
    "    for i, j in itertools.product(range(cm.shape[0]), range(cm.shape[1])):\n",
    "        plt.text(j, i, format(cm[i, j], fmt),\n",
    "                 horizontalalignment=\"center\",\n",
    "                 color=\"white\" if cm[i, j] > thresh else \"black\")\n",
    "\n",
    "    plt.ylabel('True label')\n",
    "    plt.xlabel('Predicted label')\n",
    "    plt.tight_layout()\n",
    "    plt.show()"
   ]
  },
  {
   "cell_type": "markdown",
   "metadata": {},
   "source": [
    "### BagofVisualWords_python3x.py\n",
    "\n",
    "This is the most significant script of the delivery. It contains several methods such as the detectors, the descriptors pyramid, the BOW or the cross validation computation."
   ]
  },
  {
   "cell_type": "code",
   "execution_count": 4,
   "metadata": {},
   "outputs": [],
   "source": [
    "import cv2\n",
    "import numpy as np\n",
    "import pickle\n",
    "import time\n",
    "\n",
    "from sklearn.cluster import MiniBatchKMeans\n",
    "from sklearn.metrics import confusion_matrix\n",
    "from sklearn.model_selection import StratifiedKFold\n",
    "import sys\n",
    "from sklearn.model_selection import train_test_split, GridSearchCV\n",
    "\n",
    "\n",
    "def open_pkl(pkl_file):\n",
    "    \"\"\"\n",
    "    This function opens pkl files providing file name on WD.\n",
    "    \"\"\"\n",
    "    with open(pkl_file, 'rb') as f:\n",
    "        data = pickle.load(f)\n",
    "    return data\n",
    "\n",
    "\n",
    "def compute_detector(sift_step_size, sift_scale, n_features=300):\n",
    "    \"\"\"\n",
    "    Computes Sift detector object.\n",
    "    Computes mesh of KPs using a custom step size and scale value(s).\n",
    "    Points are shifted by sift_step_size/2 in order to avoid points on \n",
    "    image borders\n",
    "    \"\"\"\n",
    "    SIFTdetector = cv2.xfeatures2d.SIFT_create(nfeatures=n_features)\n",
    "\n",
    "    if not isinstance(sift_scale, list):\n",
    "        sift_scale = [sift_scale]\n",
    "\n",
    "    kpt = [cv2.KeyPoint(x, y, scale) for y in\n",
    "           range(int(sift_step_size / 2) - 1, 256 - int(sift_step_size / 2), sift_step_size) for x in\n",
    "           range(int(sift_step_size / 2) - 1, 256 - int(sift_step_size / 2), sift_step_size) for scale in sift_scale]\n",
    "\n",
    "    return (SIFTdetector, kpt)\n",
    "\n",
    "\n",
    "def compute_des_pyramid(dataset_desc, pyramid_level, kpt, img_px=256):\n",
    "    \"\"\"\n",
    "    Computes Pyramid divison of the kp descriptors dataset\n",
    "    It uses KPs values to descriminate to which level each descriptor belongs\n",
    "    \"\"\"\n",
    "    div_level = int(2 ** (pyramid_level))\n",
    "    pyramid_res = img_px / div_level\n",
    "    pyramid_desc = []\n",
    "\n",
    "    for image_desc in dataset_desc:\n",
    "        im_pyramid_desc = []\n",
    "        # axis 0 divisions\n",
    "        for n in range(1, div_level + 1):\n",
    "            # axis 1 divisions\n",
    "            for m in range(1, div_level + 1):\n",
    "                sub_desc = []\n",
    "                for kp_desc, kp in zip(image_desc, kpt):\n",
    "                    x, y = kp.pt\n",
    "                    # sub resolution area\n",
    "                    if (((n - 1) * pyramid_res <= x < n * pyramid_res) and\n",
    "                            ((m - 1) * pyramid_res <= y < m * pyramid_res)):\n",
    "                        sub_desc.append(kp_desc)\n",
    "\n",
    "                im_pyramid_desc.append(np.array(sub_desc, dtype='f'))\n",
    "\n",
    "        pyramid_desc.append(im_pyramid_desc)\n",
    "\n",
    "    return pyramid_desc\n",
    "\n",
    "\n",
    "def compute_BOW(train_images_filenames, dense, SIFTdetector, kpt,\n",
    "                k_codebook, pyramid_level, norm_method):\n",
    "    train_descriptors = []\n",
    "    # Compute SIFT descriptors for whole DS \n",
    "    for filename in train_images_filenames:\n",
    "        ima = cv2.imread(filename)\n",
    "        gray = cv2.cvtColor(ima, cv2.COLOR_BGR2GRAY)\n",
    "        if dense:\n",
    "            (_, des) = SIFTdetector.compute(gray, kpt)\n",
    "        else:\n",
    "            (_, des) = SIFTdetector.detectAndCompute(gray, None)\n",
    "            # Creates a list with all the descriptors\n",
    "        train_descriptors.append(des)\n",
    "\n",
    "    # Descriptors are clustered with KMeans (whole image, e.g pyramid_level = 0)\n",
    "    descriptors = np.vstack(train_descriptors)\n",
    "\n",
    "    codebook = MiniBatchKMeans(n_clusters=k_codebook, batch_size=k_codebook * 20,\n",
    "                               compute_labels=False, reassignment_ratio=10 ** -4,\n",
    "                               random_state=42)\n",
    "    codebook.fit(descriptors)\n",
    "\n",
    "    # Pyramid Representation of n Levels\n",
    "    pyramid_descriptors = []\n",
    "\n",
    "    while pyramid_level >= 0:\n",
    "        pyramid_descriptors.append(compute_des_pyramid(train_descriptors, pyramid_level, kpt))\n",
    "        pyramid_level -= 1\n",
    "\n",
    "    # Create visual words with normalized bins for each image and subimage\n",
    "    # After individually normalized, bins are concatenated for each image\n",
    "\n",
    "    visual_words = pyramid_visual_word(pyramid_descriptors, codebook, k_codebook, train_descriptors)\n",
    "\n",
    "    return codebook, visual_words\n",
    "\n",
    "\n",
    "def test_BOW(test_images_filenames, dense, SIFTdetector, kpt, k_codebook, pyramid_level, codebook):\n",
    "    test_descriptors = []\n",
    "\n",
    "    for filename in test_images_filenames:\n",
    "        ima = cv2.imread(filename)\n",
    "        gray = cv2.cvtColor(ima, cv2.COLOR_BGR2GRAY)\n",
    "        if dense:\n",
    "            (_, des) = SIFTdetector.compute(gray, kpt)\n",
    "        else:\n",
    "            (_, des) = SIFTdetector.detectAndCompute(gray, None)\n",
    "\n",
    "        test_descriptors.append(des)\n",
    "\n",
    "    # Pyramid Representation of n Levels            \n",
    "    pyramid_descriptors = []\n",
    "\n",
    "    while pyramid_level >= 0:\n",
    "        pyramid_descriptors.append(compute_des_pyramid(test_descriptors, pyramid_level, kpt))\n",
    "        pyramid_level -= 1\n",
    "\n",
    "    # Create visual words with normalized bins for each image and subimage\n",
    "    # After individually normalized, bins are concatenated for each image\n",
    "    visual_words_test = pyramid_visual_word(pyramid_descriptors, codebook, k_codebook, test_descriptors)\n",
    "\n",
    "    return visual_words_test\n",
    "\n",
    "\n",
    "def compute_accuracy_labels(test_labels, train_labels, test_data, clf):\n",
    "\n",
    "    accuracy = 100 * clf.score(test_data, test_labels)\n",
    "    predicted_labels = clf.predict(test_data)\n",
    "    unique_labels = list(set(train_labels))\n",
    "\n",
    "    # Compute confusion matrix\n",
    "    cnf_matrix = confusion_matrix(test_labels, predicted_labels, labels=unique_labels)\n",
    "\n",
    "    return accuracy, cnf_matrix, unique_labels\n",
    "\n",
    "\n",
    "def cross_validation(skf, X, y, SIFTdetector, kpt, k_codebook, dense, \n",
    "                     pyramid_level, norm_method, compute_kernel, classifier):\n",
    "    splits_accuracy = []\n",
    "    splits_time = []\n",
    "\n",
    "    for number, (train_index, test_index) in enumerate(skf.split(X, y)):\n",
    "        x_train, x_test = X[train_index], X[test_index]\n",
    "        y_train, y_test = y[train_index], y[test_index]\n",
    "\n",
    "        start = time.time()\n",
    "\n",
    "\n",
    "        (codebook, visual_words) = compute_BOW(x_train, dense, SIFTdetector, kpt,\n",
    "                                               k_codebook, pyramid_level, norm_method)\n",
    "        bow_time = time.time()\n",
    "\n",
    "        # Compute kernel for classifier\n",
    "        # If not intersection, kernelMatrix = visual_words\n",
    "        kernel_matrix = compute_kernel(visual_words, visual_words)\n",
    "\n",
    "        classifier.fit(kernel_matrix, y_train)\n",
    "\n",
    "        visual_words_test = test_BOW(x_test, dense, SIFTdetector, kpt, k_codebook,\n",
    "                                     pyramid_level, codebook)\n",
    "\n",
    "        # Compute kernel for classifier\n",
    "        # If not intersection, kernelMatrix = visual_words\n",
    "        kernel_matrix_test = compute_kernel(visual_words_test, visual_words)\n",
    "\n",
    "        accuracy, cnf_matrix, unique_labels = compute_accuracy_labels(y_test, y_train, \n",
    "                                                                      kernel_matrix_test, \n",
    "                                                                      classifier)\n",
    "\n",
    "        class_time = time.time()\n",
    "        ttime = class_time - start\n",
    "\n",
    "        # Add accuracy for each validation step\n",
    "        splits_accuracy.append(accuracy)\n",
    "        splits_time.append(ttime)\n",
    "\n",
    "        #print(\"\\nAccuracy for split\", number, \":\", accuracy, \"\\nTotal Time: \", class_time - start,\n",
    "        #      \"\\nBOW Time: \", bow_time - start, \"\\nClassification Time: \", class_time - bow_time)\n",
    "\n",
    "        # Plot normalized confusion matrix\n",
    "        # np.set_printoptions(precision=2)\n",
    "        # plot_confusion_matrix(cnf_matrix, classes=unique_labels,\n",
    "        #                      normalize=True,\n",
    "        #                      title='Normalized confusion matrix')\n",
    "        \n",
    "    return splits_accuracy, splits_time"
   ]
  },
  {
   "cell_type": "markdown",
   "metadata": {},
   "source": [
    "# Playing starts here\n",
    "After all the methods have been declared, it is time to start finding our best values for our parameters and the differences between different methods in order to classify these images. \n"
   ]
  },
  {
   "cell_type": "markdown",
   "metadata": {},
   "source": [
    "### Main\n",
    "\n"
   ]
  },
  {
   "cell_type": "markdown",
   "metadata": {},
   "source": [
    "### Variable Definition\n",
    "\n",
    "The variables are initialized using the default values from last week."
   ]
  },
  {
   "cell_type": "code",
   "execution_count": 5,
   "metadata": {},
   "outputs": [],
   "source": [
    "# Determines total number of kps in an given image (set composed of 256x256px img)\n",
    "sift_step_size = 20\n",
    "\n",
    "# List providing scale values to compute at each kp\n",
    "sift_scale = [20]\n",
    "\n",
    "# Dense/Normal Sift \n",
    "dense = True\n",
    "\n",
    "# Number of clusters in KMeans, size of codebook (words)\n",
    "k_codebook = 128\n",
    "\n",
    "type_classifier = \"KNN\"\n",
    "\n",
    "knn_dict =\t{\n",
    "  \"k_classifier\": 5,\n",
    "  \"distance_method\": \"euclidean\",\n",
    "}\n",
    "\n",
    "svm_dict ={\n",
    "    \"kernel\": [\"linear\", \"rbf\", \"poly\", \"precomputed\"],\n",
    "    \"C_linear\": 0.1,\n",
    "    \"C_linear2\": 0.1,\n",
    "    \"C_rbf\": 1,\n",
    "    \"C_poly\": 0.1,\n",
    "    \"C_inter\": 1,\n",
    "    \"gamma\": 0.001,\n",
    "    \"degree\": 1,\n",
    "}\n",
    "\n",
    "# Number of pyramid levels used\n",
    "pyramid_level = 0\n",
    "# CrosValidation division kfold\n",
    "number_splits = 3\n",
    "# Intersection Kernel for SVN \n",
    "intersection = False\n",
    "# Distance method used in order to normalize bincounts for the BoW\n",
    "norm_method = \"L2\"\n"
   ]
  },
  {
   "cell_type": "code",
   "execution_count": 6,
   "metadata": {},
   "outputs": [],
   "source": [
    "# Prepare files from DS for training and creates Folds\n",
    "train_images = open_pkl('train_images_filenames.dat')\n",
    "train_labels = open_pkl('train_labels.dat')\n",
    "\n",
    "X = np.array(train_images)\n",
    "y = np.array(train_labels)\n"
   ]
  },
  {
   "cell_type": "markdown",
   "metadata": {},
   "source": [
    "### SIFT\n",
    "\n",
    "First of all, based on the feedback received from last week, SIFT parameters are going to be revisited, now with a proper cross-validation scheme.\n",
    "\n",
    "Step size is iterated over using power distribution (4, 8, 16, 32...). "
   ]
  },
  {
   "cell_type": "code",
   "execution_count": 7,
   "metadata": {},
   "outputs": [
    {
     "data": {
      "image/png": "[encoded data removed]",
      "text/plain": [
       "<matplotlib.figure.Figure at 0x1a3a2e53cf8>"
      ]
     },
     "metadata": {
      "needs_background": "light"
     },
     "output_type": "display_data"
    }
   ],
   "source": [
    "# Creates instance for Kfold\n",
    "skf = StratifiedKFold(n_splits=number_splits, random_state=42, shuffle=True)\n",
    "# Loads KNN classifier\n",
    "classifier = init_classifier_knn(knn_dict)\n",
    "\n",
    "accuracy_list = []\n",
    "time_list = []\n",
    "\n",
    "sift_step_size_iterations = [2**n for n in range(2,8)]\n",
    "\n",
    "for sift_step_size in sift_step_size_iterations:\n",
    "    (SIFTdetector, kpt) = compute_detector(sift_step_size, sift_scale)\n",
    "    accuracy_validation, time_validation = cross_validation(skf, X, y, SIFTdetector, kpt, k_codebook,\n",
    "                                                            dense, pyramid_level, norm_method, compute_regular_kernel, classifier)\n",
    "    # Append for the different testing values\n",
    "    accuracy_list.append(np.average(accuracy_validation))\n",
    "    time_list.append(np.average(time_validation))\n",
    "    \n",
    "plot_accuracy_vs_time(sift_step_size_iterations, accuracy_list, time_list,\n",
    "                      feature_name='SIFT step size', title=\"DSIFT\")"
   ]
  },
  {
   "cell_type": "markdown",
   "metadata": {},
   "source": [
    "As it can be observed, the best value for the step size lies around 16."
   ]
  },
  {
   "cell_type": "code",
   "execution_count": 8,
   "metadata": {},
   "outputs": [],
   "source": [
    "sift_step_size = 16"
   ]
  },
  {
   "cell_type": "markdown",
   "metadata": {},
   "source": [
    "Another approach missing in previous week was to test multiply scales at the same time, therefore here, different combinations for scales are goint to be tested. First, we are going to find the best values (individually) for scales, them, we are goint to add them together. "
   ]
  },
  {
   "cell_type": "code",
   "execution_count": 9,
   "metadata": {},
   "outputs": [
    {
     "data": {
      "image/png": "[encoded data removed]",
      "text/plain": [
       "<matplotlib.figure.Figure at 0x1a3cdb224a8>"
      ]
     },
     "metadata": {
      "needs_background": "light"
     },
     "output_type": "display_data"
    }
   ],
   "source": [
    "accuracy_list = []\n",
    "time_list = []\n",
    "\n",
    "sift_scale_iterations = [2**n for n in range(2,6)]\n",
    "\n",
    "for sift_scale in sift_scale_iterations:\n",
    "    (SIFTdetector, kpt) = compute_detector(sift_step_size, sift_scale)\n",
    "    accuracy_validation, time_validation = cross_validation(skf, X, y, SIFTdetector, kpt, k_codebook,\n",
    "                                                            dense, pyramid_level, norm_method, compute_regular_kernel, classifier)\n",
    "    # Append for the different testing values\n",
    "    accuracy_list.append(np.average(accuracy_validation))\n",
    "    time_list.append(np.average(time_validation))\n",
    "    \n",
    "plot_accuracy_vs_time(sift_scale_iterations, accuracy_list, time_list,\n",
    "                      feature_name='SIFT scale', title=\"DSIFT\")"
   ]
  },
  {
   "cell_type": "markdown",
   "metadata": {},
   "source": [
    "The best values for the Sift scale with a fixed step (from greater to lower accuracy): 16, 32, 8, 64, 4, 128 \n",
    "Let's try now to convine them."
   ]
  },
  {
   "cell_type": "code",
   "execution_count": 10,
   "metadata": {},
   "outputs": [
    {
     "data": {
      "image/png": "[encoded data removed]",
      "text/plain": [
       "<matplotlib.figure.Figure at 0x1a3f2a6f198>"
      ]
     },
     "metadata": {
      "needs_background": "light"
     },
     "output_type": "display_data"
    }
   ],
   "source": [
    "accuracy_list = []\n",
    "time_list = []\n",
    "\n",
    "sift_scale_iterations = [[16],[16,32],[8, 16, 32]]\n",
    "\n",
    "for sift_scale in sift_scale_iterations:\n",
    "    (SIFTdetector, kpt) = compute_detector(sift_step_size, sift_scale)\n",
    "    accuracy_validation, time_validation = cross_validation(skf, X, y, SIFTdetector, kpt, k_codebook,\n",
    "                                                            dense, pyramid_level, norm_method, compute_regular_kernel, classifier)\n",
    "    # Append for the different testing values\n",
    "    accuracy_list.append(np.average(accuracy_validation))\n",
    "    time_list.append(np.average(time_validation))\n",
    "    \n",
    "plot_accuracy_vs_time(np.arange(1,len(sift_scale_iterations)+1), accuracy_list, time_list,\n",
    "                      feature_name='Number of SIFT scales', title=\"DSIFT\")"
   ]
  },
  {
   "cell_type": "markdown",
   "metadata": {},
   "source": [
    "It has been shown that multi-sacle approach benefits our accuracy, however, using more than two or three scales would not affect much on accuracy but would greatly increasing time. Therefore from now on the scale would be set to:"
   ]
  },
  {
   "cell_type": "code",
   "execution_count": 11,
   "metadata": {},
   "outputs": [],
   "source": [
    "sift_scale = [16, 32]"
   ]
  },
  {
   "cell_type": "markdown",
   "metadata": {},
   "source": [
    "### Codebook - Kmeans"
   ]
  },
  {
   "cell_type": "code",
   "execution_count": 12,
   "metadata": {},
   "outputs": [
    {
     "data": {
      "image/png": "[encoded data removed]",
      "text/plain": [
       "<matplotlib.figure.Figure at 0x1a3f2a4b588>"
      ]
     },
     "metadata": {
      "needs_background": "light"
     },
     "output_type": "display_data"
    }
   ],
   "source": [
    "accuracy_list = []\n",
    "time_list = []\n",
    "\n",
    "codebook_iterations = [2**n for n in range(6,11)]\n",
    "\n",
    "for k_codebook in codebook_iterations:\n",
    "    (SIFTdetector, kpt) = compute_detector(sift_step_size, sift_scale)\n",
    "    accuracy_validation, time_validation = cross_validation(skf, X, y, SIFTdetector, kpt, k_codebook,\n",
    "                                                            dense, pyramid_level, norm_method, compute_regular_kernel, classifier)\n",
    "    # Append for the different testing values\n",
    "    accuracy_list.append(np.average(accuracy_validation))\n",
    "    time_list.append(np.average(time_validation))\n",
    "    \n",
    "plot_accuracy_vs_time(codebook_iterations, accuracy_list, time_list,\n",
    "                      feature_name='Size Codebook', title=\"DSIFT\")"
   ]
  },
  {
   "cell_type": "code",
   "execution_count": 13,
   "metadata": {},
   "outputs": [],
   "source": [
    "k_codebook = 1024"
   ]
  },
  {
   "cell_type": "markdown",
   "metadata": {},
   "source": [
    "### Norm Methods"
   ]
  },
  {
   "cell_type": "code",
   "execution_count": null,
   "metadata": {},
   "outputs": [],
   "source": [
    "accuracy_list = []\n",
    "time_list = []\n",
    "\n",
    "norm_iterations = ['l1', 'l2', 'max'] \n",
    "\n",
    "for norm_method in norm_iterations:\n",
    "    (SIFTdetector, kpt) = compute_detector(sift_step_size, sift_scale)\n",
    "    accuracy_validation, time_validation = cross_validation(skf, X, y, SIFTdetector, kpt, k_codebook,\n",
    "                                                            dense, pyramid_level, norm_method, compute_regular_kernel, classifier)\n",
    "    accuracy_list.append(np.average(accuracy_validation))\n",
    "    time_list.append(np.average(time_validation))\n",
    "    \n",
    "plot_accuracy_vs_time(norm_iterations, accuracy_list, time_list,\n",
    "                      feature_name='Norm Method', title=\"DSIFT\")"
   ]
  },
  {
   "cell_type": "code",
   "execution_count": 15,
   "metadata": {},
   "outputs": [],
   "source": [
    "norm_method = 'l2'"
   ]
  },
  {
   "cell_type": "markdown",
   "metadata": {},
   "source": [
    "### Pyramid Levels\n",
    "Once on the parameters from last week has been revisited, including different norm methods for woriking out the distances, pyramids are introduced so that spatial information is not lost. Therefore, we are going to compute the boost in performance by introducing different levels of pyramids in our pipeline. "
   ]
  },
  {
   "cell_type": "code",
   "execution_count": null,
   "metadata": {},
   "outputs": [],
   "source": [
    "accuracy_list = []\n",
    "time_list = []\n",
    "\n",
    "pyramid_level_iterations = np.arange(3)\n",
    "\n",
    "for pyramid_level in pyramid_level_iterations:\n",
    "    (SIFTdetector, kpt) = compute_detector(sift_step_size, sift_scale)\n",
    "    accuracy_validation, time_validation = cross_validation(skf, X, y, SIFTdetector, kpt, k_codebook,\n",
    "                                                            dense, pyramid_level, norm_method, compute_regular_kernel, classifier)\n",
    "    # Append for the different testing values\n",
    "    accuracy_list.append(np.average(accuracy_validation))\n",
    "    time_list.append(np.average(time_validation))\n",
    "    \n",
    "plot_accuracy_vs_time(pyramid_level_iterations, accuracy_list, time_list,\n",
    "                      feature_name='Number of pyramid Levels', title=\"DSIFT\")"
   ]
  },
  {
   "cell_type": "markdown",
   "metadata": {},
   "source": [
    "Introducing pyramids improved our results, however it just dit for pyramid of level 1, when going further the results did not kept improving, therefore:"
   ]
  },
  {
   "cell_type": "code",
   "execution_count": null,
   "metadata": {},
   "outputs": [],
   "source": [
    "pyramid_level = 1"
   ]
  },
  {
   "cell_type": "markdown",
   "metadata": {},
   "source": [
    "## Kernel SVM\n",
    "\n",
    "The parameters for the SVM kernels have been found differently. First, the parameters for each kernel are found using the GridSearchCV method from sklearn. GridSearchCV allows finding the best classifier for the current training data. After the possible optimal parameters are found, all the program will be executed for each one of the kernels to see which one performs the best classification.\n",
    "\n",
    "In order to run the GridSearchCV, we require the visual_words obtained after computing SIFT descriptors and applying the KMeans clustering. This process is run in the code below:"
   ]
  },
  {
   "cell_type": "code",
   "execution_count": null,
   "metadata": {},
   "outputs": [],
   "source": [
    "(SIFTdetector, kpt) = compute_detector(sift_step_size, sift_scale)\n",
    "(codebook, visual_words) = compute_BOW(train_images, dense, SIFTdetector, kpt, k_codebook, pyramid_level, norm_method)"
   ]
  },
  {
   "cell_type": "markdown",
   "metadata": {},
   "source": [
    "### 1. Training Parameters for each Kernel"
   ]
  },
  {
   "cell_type": "markdown",
   "metadata": {},
   "source": [
    "Now, we are going to train the SVM kernels with different parameters to find the best ones for our training data."
   ]
  },
  {
   "cell_type": "markdown",
   "metadata": {},
   "source": [
    "### Linear Kernel: OVO"
   ]
  },
  {
   "cell_type": "code",
   "execution_count": null,
   "metadata": {},
   "outputs": [],
   "source": [
    "# Grid Search\n",
    "# Parameter Grid\n",
    "param_grid = {'C': [0.1, 0.55, 0.65, 0.75, 0.8, 1, 10, 100]}\n",
    "\n",
    " \n",
    "# Make grid search classifier\n",
    "clf_grid = GridSearchCV(svm.SVC(kernel='linear', decision_function_shape='ovo'), param_grid, verbose=1, n_jobs=4)\n",
    " \n",
    "# Train the classifier\n",
    "clf_grid.fit(visual_words, train_labels)\n",
    " \n",
    "# clf = grid.best_estimator_()\n",
    "print(\"Best Parameters:\\n\", clf_grid.best_params_)\n",
    "print(\"Best Estimators:\\n\", clf_grid.best_estimator_)"
   ]
  },
  {
   "cell_type": "markdown",
   "metadata": {},
   "source": [
    "### Linear Kernel: OVR"
   ]
  },
  {
   "cell_type": "code",
   "execution_count": null,
   "metadata": {},
   "outputs": [],
   "source": [
    "param_grid = {'C': [0.1, 0.55, 0.65, 0.75, 0.8, 0.9 ,1, 10, 100]}\n",
    " \n",
    "clf_grid = GridSearchCV(svm.LinearSVC(), param_grid, verbose=1, n_jobs=4)\n",
    " \n",
    "clf_grid.fit(visual_words, train_labels)\n",
    " \n",
    "print(\"Best Parameters:\\n\", clf_grid.best_params_)\n",
    "print(\"Best Estimators:\\n\", clf_grid.best_estimator_)"
   ]
  },
  {
   "cell_type": "markdown",
   "metadata": {},
   "source": [
    "### RBF Kernel"
   ]
  },
  {
   "cell_type": "code",
   "execution_count": null,
   "metadata": {},
   "outputs": [],
   "source": [
    "param_grid = {'C': [0.1, 0.55, 0.65, 0.75, 0.8, 0.9 ,1, 10, 100], \n",
    "              'gamma': [0.1, 0.55, 0.65, 0.75, 0.8, 0.9 ,1, 10, 100]}\n",
    " \n",
    "clf_grid = GridSearchCV(svm.SVC(kernel='rbf'), param_grid, verbose=1, n_jobs=4)\n",
    " \n",
    "clf_grid.fit(visual_words, train_labels)\n",
    " \n",
    "print(\"Best Parameters:\\n\", clf_grid.best_params_)\n",
    "print(\"Best Estimators:\\n\", clf_grid.best_estimator_)"
   ]
  },
  {
   "cell_type": "markdown",
   "metadata": {},
   "source": [
    "### Polynomical Kernel"
   ]
  },
  {
   "cell_type": "code",
   "execution_count": null,
   "metadata": {},
   "outputs": [],
   "source": [
    "param_grid = {'C': [10, 30, 50,60,70,80,90, 100], 'degree': [0.2,0.5,0.75,1, 2, 3, 4, 5]}\n",
    "\n",
    "\n",
    "clf_grid = GridSearchCV(svm.SVC(kernel='poly'), param_grid, verbose=1, n_jobs=4)\n",
    " \n",
    "clf_grid.fit(visual_words, train_labels)\n",
    " \n",
    "print(\"Best Parameters:\\n\", clf_grid.best_params_)\n",
    "print(\"Best Estimators:\\n\", clf_grid.best_estimator_)"
   ]
  },
  {
   "cell_type": "markdown",
   "metadata": {},
   "source": [
    "### 2. Test the SVM classifier with the computed  values"
   ]
  },
  {
   "cell_type": "code",
   "execution_count": null,
   "metadata": {},
   "outputs": [],
   "source": [
    "svm_dict ={\n",
    "    \"kernel\": [\"linear\", \"rbf\", \"poly\", \"precomputed\"],\n",
    "    \"C_linear\": 0.75,\n",
    "    \"C_linear2\": 0.8,\n",
    "    \"C_rbf\": 1,\n",
    "    \"C_poly\": 90,\n",
    "    \"C_inter\": 1,\n",
    "    \"gamma\": 0.65,\n",
    "    \"degree\": 1,\n",
    "    \"gamma_poly\": 'auto',\n",
    "}\n",
    "\n",
    "accuracy_list = []\n",
    "time_list = []\n",
    "\n",
    "skf = StratifiedKFold(n_splits=number_splits, random_state=42, shuffle=True)\n",
    "\n",
    "classifier_svm = init_classifier_svm(svm_dict)"
   ]
  },
  {
   "cell_type": "markdown",
   "metadata": {},
   "source": [
    "### Linear"
   ]
  },
  {
   "cell_type": "code",
   "execution_count": null,
   "metadata": {},
   "outputs": [],
   "source": [
    "clf = classifier_svm[0][0]\n",
    "clf_name = classifier_svm[0][1]\n",
    "print (\"\\nKernel type: \", clf_name)\n",
    "\n",
    "accuracy_validation_l, time_validation_l = cross_validation(skf, X, y, SIFTdetector, kpt, k_codebook,\n",
    "                                                            dense, pyramid_level, norm_method, \n",
    "                                                            compute_regular_kernel, clf)\n",
    "accuracy_list.append(np.average(accuracy_validation_l))\n",
    "time_list.append(np.average(time_validation_l))"
   ]
  },
  {
   "cell_type": "markdown",
   "metadata": {},
   "source": [
    "### Linear OVR"
   ]
  },
  {
   "cell_type": "code",
   "execution_count": null,
   "metadata": {},
   "outputs": [],
   "source": [
    "clf = classifier_svm[1][0]\n",
    "clf_name = classifier_svm[1][1]\n",
    "print (\"\\nKernel type: \", clf_name)\n",
    "\n",
    "accuracy_validation_l2, time_validation_l2 = cross_validation(skf, X, y, SIFTdetector, kpt, k_codebook,\n",
    "                                                            dense, pyramid_level, norm_method, \n",
    "                                                            compute_regular_kernel, clf)\n",
    "accuracy_list.append(np.average(accuracy_validation_l2))\n",
    "time_list.append(np.average(time_validation_l2))"
   ]
  },
  {
   "cell_type": "markdown",
   "metadata": {},
   "source": [
    "### RBF"
   ]
  },
  {
   "cell_type": "code",
   "execution_count": null,
   "metadata": {},
   "outputs": [],
   "source": [
    "clf = classifier_svm[2][0]\n",
    "clf_name = classifier_svm[2][1]\n",
    "print (\"\\nKernel type: \", clf_name)\n",
    "\n",
    "accuracy_validation_rbf, time_validation_rbf = cross_validation(skf, X, y, SIFTdetector, kpt, k_codebook,\n",
    "                                                            dense, pyramid_level, norm_method, \n",
    "                                                            compute_regular_kernel, clf)\n",
    "# Append for the different testing values\n",
    "accuracy_list.append(np.average(accuracy_validation_rbf))\n",
    "time_list.append(np.average(time_validation_rbf))"
   ]
  },
  {
   "cell_type": "markdown",
   "metadata": {},
   "source": [
    "### Polynomial"
   ]
  },
  {
   "cell_type": "code",
   "execution_count": null,
   "metadata": {},
   "outputs": [],
   "source": [
    "clf = classifier_svm[3][0]\n",
    "clf_name = classifier_svm[3][1]\n",
    "print (\"\\nKernel type: \", clf_name)\n",
    "\n",
    "accuracy_validation_poly, time_validation_poly = cross_validation(skf, X, y, SIFTdetector, kpt, k_codebook,\n",
    "                                                            dense, pyramid_level, norm_method, \n",
    "                                                            compute_regular_kernel, clf)\n",
    "accuracy_list.append(np.average(accuracy_validation_poly))\n",
    "time_list.append(np.average(time_validation_poly))"
   ]
  },
  {
   "cell_type": "markdown",
   "metadata": {},
   "source": [
    "### Histogram Intersection"
   ]
  },
  {
   "cell_type": "code",
   "execution_count": null,
   "metadata": {
    "scrolled": true
   },
   "outputs": [],
   "source": [
    "clf = classifier_svm[4][0]\n",
    "clf_name = classifier_svm[4][1]\n",
    "print (\"\\nKernel type: \", clf_name)\n",
    "\n",
    "accuracy_validation_inter, time_validation_inter = cross_validation(skf, X, y, SIFTdetector, kpt, k_codebook,\n",
    "                                                            dense, pyramid_level, norm_method, \n",
    "                                                            compute_intersection_kernel, clf)\n",
    "\n",
    "# Append for the different testing values\n",
    "accuracy_list.append(np.average(accuracy_validation_inter))\n",
    "time_list.append(np.average(time_validation_inter))"
   ]
  },
  {
   "cell_type": "code",
   "execution_count": null,
   "metadata": {},
   "outputs": [],
   "source": [
    "kernels = [\"linear ovo\", \"linear ovr\", \"rbf\", \"polynomial\", \"intersection\"]\n",
    "plot_accuracy_vs_time(kernels, accuracy_list, time_list,\n",
    "                      feature_name='Kernels used', title=\"Kernel SVM\")"
   ]
  },
  {
   "cell_type": "markdown",
   "metadata": {},
   "source": [
    "By looking at the graph, **RBF Kernel** seems to be the most suitable for the dataset"
   ]
  },
  {
   "cell_type": "code",
   "execution_count": null,
   "metadata": {},
   "outputs": [],
   "source": []
  }
 ],
 "metadata": {
  "kernelspec": {
   "display_name": "Python 3",
   "language": "python",
   "name": "python3"
  },
  "language_info": {
   "codemirror_mode": {
    "name": "ipython",
    "version": 3
   },
   "file_extension": ".py",
   "mimetype": "text/x-python",
   "name": "python",
   "nbconvert_exporter": "python",
   "pygments_lexer": "ipython3",
   "version": "3.6.6"
  }
 },
 "nbformat": 4,
 "nbformat_minor": 2
}
