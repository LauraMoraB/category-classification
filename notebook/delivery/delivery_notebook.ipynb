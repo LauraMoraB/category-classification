{
 "cells": [
  {
   "cell_type": "markdown",
   "metadata": {},
   "source": [
    "# Week 1 Delivery\n",
    "\n",
    "**Authors:** *Aitor Sánchez, Andreu Rodríguez and Laura Mora*"
   ]
  },
  {
   "cell_type": "markdown",
   "metadata": {},
   "source": [
    "The purpose of this project is to familiarize with the SIFT descriptor as a feature and descriptor method as well as The Bag Of Words (BOW) model.\n",
    "\n",
    "In the project, we are given a dataset with different classes of images, divided in both train and test. In the given code, the SIFT descriptor is created for a given number of features, then a Kmeans clustering is applied for training purposes. Finally, for both training and testing, a KNeighbours classifier is applied to classify the dataset into the different classes."
   ]
  },
  {
   "cell_type": "markdown",
   "metadata": {},
   "source": [
    "## Change Log"
   ]
  },
  {
   "cell_type": "markdown",
   "metadata": {},
   "source": [
    "| SIFT Descriptor | Dense SIFT Descriptor | KMEANS | KNN Classifier |\n",
    "|-----------------|-----------------------|--------|----------------|\n",
    "|Number of Features|Total number of kps for a given image|Codebook Size|Number of Neighbours|\n",
    "|        -         | -                                   |-            |Distance Type|"
   ]
  },
  {
   "cell_type": "code",
   "execution_count": null,
   "metadata": {},
   "outputs": [],
   "source": []
  }
 ],
 "metadata": {
  "kernelspec": {
   "display_name": "Python 3",
   "language": "python",
   "name": "python3"
  },
  "language_info": {
   "codemirror_mode": {
    "name": "ipython",
    "version": 3
   },
   "file_extension": ".py",
   "mimetype": "text/x-python",
   "name": "python",
   "nbconvert_exporter": "python",
   "pygments_lexer": "ipython3",
   "version": "3.7.0"
  }
 },
 "nbformat": 4,
 "nbformat_minor": 2
}
