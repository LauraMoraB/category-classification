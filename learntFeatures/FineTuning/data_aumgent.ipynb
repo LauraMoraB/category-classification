{
 "cells": [
  {
   "cell_type": "code",
   "execution_count": 371,
   "metadata": {},
   "outputs": [],
   "source": [
    "from load_data import *\n",
    "from keras.preprocessing.image import ImageDataGenerator\n",
    "from matplotlib import pyplot as plt\n",
    "from sklearn.model_selection import GridSearchCV\n",
    "from keras.models import Sequential\n",
    "from keras.layers import Dense\n",
    "from utils import *\n",
    "from test_network import test\n",
    "from load_data import data_augmentation\n",
    "\n",
    "from keras.wrappers.scikit_learn import KerasClassifier"
   ]
  },
  {
   "cell_type": "code",
   "execution_count": 372,
   "metadata": {
    "collapsed": true
   },
   "outputs": [],
   "source": [
    "dataset_train = 'MIT_split_small/train/'\n",
    "dataset_test = 'MIT_split_small/test/'\n",
    "IMG_SIZE = 64\n",
    "BATCH_SIZE = 16\n",
    "DENSITY = 'mobilenet_base'\n",
    "OPTIMIZER='RMSprop'"
   ]
  },
  {
   "cell_type": "markdown",
   "metadata": {},
   "source": [
    "## Load Data and Augment"
   ]
  },
  {
   "cell_type": "code",
   "execution_count": 373,
   "metadata": {
    "collapsed": true
   },
   "outputs": [],
   "source": [
    "config = 'default'\n",
    "train_datagen = data_augmentation(config)\n",
    "test_datagen = data_augmentation('test') # sempre a test"
   ]
  },
  {
   "cell_type": "code",
   "execution_count": 374,
   "metadata": {
    "scrolled": true
   },
   "outputs": [
    {
     "name": "stdout",
     "output_type": "stream",
     "text": [
      "Found 400 images belonging to 8 classes.\n",
      "Found 2288 images belonging to 8 classes.\n"
     ]
    }
   ],
   "source": [
    "train_generator = train_datagen.flow_from_directory(\n",
    "        dataset_train, \n",
    "        target_size=(IMG_SIZE, IMG_SIZE),  \n",
    "        batch_size=BATCH_SIZE,\n",
    "        classes = ['coast','forest','highway','inside_city','mountain','Opencountry','street','tallbuilding'],\n",
    "        class_mode='categorical')  \n",
    "\n",
    "validation_generator = test_datagen.flow_from_directory(\n",
    "        dataset_test,\n",
    "        target_size=(IMG_SIZE, IMG_SIZE),\n",
    "        batch_size=BATCH_SIZE,\n",
    "        classes = ['coast','forest','highway','inside_city','mountain','Opencountry','street','tallbuilding'],\n",
    "        class_mode='categorical')\n"
   ]
  },
  {
   "cell_type": "code",
   "execution_count": 375,
   "metadata": {
    "collapsed": true
   },
   "outputs": [],
   "source": [
    "def getXYfromGenerator(generator):\n",
    "    X, Y = generator.next()\n",
    "    batch_index = 1\n",
    "\n",
    "    while batch_index <= generator.batch_index:\n",
    "        auxX, auxY = generator.next()\n",
    "        X = np.concatenate((X, auxX))\n",
    "        Y = np.concatenate((Y, auxY))\n",
    "        batch_index = batch_index + 1\n",
    "\n",
    "    return X, Y\n",
    "\n",
    "\n",
    "X, Y = getXYfromGenerator(train_generator)"
   ]
  },
  {
   "cell_type": "markdown",
   "metadata": {},
   "source": [
    "### get data"
   ]
  },
  {
   "cell_type": "code",
   "execution_count": 360,
   "metadata": {},
   "outputs": [
    {
     "data": {
      "text/plain": [
       "400"
      ]
     },
     "execution_count": 360,
     "metadata": {},
     "output_type": "execute_result"
    }
   ],
   "source": [
    "train_generator.n"
   ]
  },
  {
   "cell_type": "code",
   "execution_count": 376,
   "metadata": {},
   "outputs": [],
   "source": [
    "X, Y = getXYfromGenerator(train_generator)"
   ]
  },
  {
   "cell_type": "code",
   "execution_count": 333,
   "metadata": {},
   "outputs": [
    {
     "data": {
      "text/plain": [
       "(400, 64, 64, 3)"
      ]
     },
     "execution_count": 333,
     "metadata": {},
     "output_type": "execute_result"
    }
   ],
   "source": [
    "X.shape"
   ]
  },
  {
   "cell_type": "markdown",
   "metadata": {},
   "source": [
    "## Create Model"
   ]
  },
  {
   "cell_type": "code",
   "execution_count": 377,
   "metadata": {
    "collapsed": true
   },
   "outputs": [],
   "source": [
    "def create(IMG_SIZE=64, optimizer_param='sgd'):\n",
    "    \n",
    "    model = Sequential()\n",
    "    model.add(Reshape( (IMG_SIZE*IMG_SIZE*3,), input_shape=(IMG_SIZE, IMG_SIZE, 3), name='first') )\n",
    "    model.add( Dense ( units=512, activation='relu', name='second') )\n",
    "    model.add( Dense ( units=8, activation='softmax') )\n",
    "    model.compile(loss='categorical_crossentropy',\n",
    "                optimizer=optimizer_param,\n",
    "                metrics=['accuracy'])    \n",
    "    \n",
    "    return model\n",
    "        "
   ]
  },
  {
   "cell_type": "code",
   "execution_count": 379,
   "metadata": {},
   "outputs": [
    {
     "name": "stdout",
     "output_type": "stream",
     "text": [
      "Building model...\n",
      "\n",
      "_________________________________________________________________\n",
      "Layer (type)                 Output Shape              Param #   \n",
      "=================================================================\n",
      "first (Reshape)              (None, 12288)             0         \n",
      "_________________________________________________________________\n",
      "second (Dense)               (None, 512)               6291968   \n",
      "_________________________________________________________________\n",
      "dense_22 (Dense)             (None, 8)                 4104      \n",
      "=================================================================\n",
      "Total params: 6,296,072\n",
      "Trainable params: 6,296,072\n",
      "Non-trainable params: 0\n",
      "_________________________________________________________________\n",
      "None\n"
     ]
    }
   ],
   "source": [
    "print('Building model...\\n')\n",
    "\n",
    "model = KerasClassifier(build_fn = create)\n",
    "\n",
    "model_setup = create(IMG_SIZE)\n",
    "print(model_setup.summary())\n"
   ]
  },
  {
   "cell_type": "markdown",
   "metadata": {},
   "source": [
    "## Grid Search"
   ]
  },
  {
   "cell_type": "code",
   "execution_count": 380,
   "metadata": {},
   "outputs": [],
   "source": [
    "param_grid = {'epochs': [10, 2]}\n",
    "#epochs = [2]\n",
    "#param_grid = dict(batch_size=batch_size, epochs=epochs)\n",
    "grid = GridSearchCV(estimator=model, param_grid=param_grid, n_jobs=-1, cv=2)"
   ]
  },
  {
   "cell_type": "code",
   "execution_count": null,
   "metadata": {},
   "outputs": [],
   "source": [
    "grid_result = grid.fit(X,Y)"
   ]
  },
  {
   "cell_type": "code",
   "execution_count": null,
   "metadata": {
    "collapsed": true
   },
   "outputs": [],
   "source": []
  }
 ],
 "metadata": {
  "kernelspec": {
   "display_name": "Python 3",
   "language": "python",
   "name": "python3"
  },
  "language_info": {
   "codemirror_mode": {
    "name": "ipython",
    "version": 3
   },
   "file_extension": ".py",
   "mimetype": "text/x-python",
   "name": "python",
   "nbconvert_exporter": "python",
   "pygments_lexer": "ipython3",
   "version": "3.6.2"
  }
 },
 "nbformat": 4,
 "nbformat_minor": 2
}
